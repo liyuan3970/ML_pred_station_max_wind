{
 "cells": [
  {
   "cell_type": "markdown",
   "metadata": {},
   "source": [
    "# 从自动站数据中抽取数据\n"
   ]
  },
  {
   "cell_type": "code",
   "execution_count": 30,
   "metadata": {},
   "outputs": [
    {
     "name": "stdout",
     "output_type": "stream",
     "text": [
      "<class 'datetime.date'>\n",
      "(676, 3)\n",
      "0    25\n",
      "3    14\n",
      "6    14\n",
      "9    20\n",
      "Name: 2, dtype: int64\n"
     ]
    }
   ],
   "source": [
    "import pymssql \n",
    "import pandas as pd\n",
    "import time\n",
    "import datetime\n",
    "from datetime import  date, timedelta\n",
    "\n",
    "today =date.today()\n",
    "sevenDayAgo = today - datetime.timedelta(days = 7)\n",
    "print(type(sevenDayAgo))\n",
    "server = \"172.21.158.201\"    # 连接服务器地址\n",
    "user = \"down\"# 连接帐号\n",
    "password = \"downx\"# 连接密码\n",
    "\n",
    "conn = pymssql.connect(server, user, password, \"ZJSZDZDB\")  #获取连接\n",
    "\n",
    "cursor = conn.cursor() # 获取光标\n",
    "cursor.execute('USE ZJSZDZDB' )\n",
    "sql  = \"select IIiii ,tTime,fFy FROM TAB_Aws2020 WHERE (IIiii ='58559' or IIiii = '58652'or IIiii ='58568' or IIiii ='58660' or IIiii ='K85050') AND (tTime BETWEEN \"+\"'\"+str(sevenDayAgo)+\"'\"+ \"AND\"+\"'\"+str(today) +\"'\"+ \") order BY IIiii,tTime\"\n",
    "\n",
    "cursor.execute(sql) \n",
    "\n",
    "row = cursor.fetchall()\n",
    "#print(row)\n",
    "print(pd.DataFrame(list(row)).shape)\n",
    "data  = pd.DataFrame(list(row))\n",
    "data_3h = data.iloc[0:10:3][2]\n",
    "print(data.iloc[0:10:3][2])\n",
    "data_3h.to_csv('Result.csv')\n",
    "cursor.close()  # 关闭游标\n",
    "conn.close()  # 关闭连接"
   ]
  },
  {
   "cell_type": "code",
   "execution_count": null,
   "metadata": {},
   "outputs": [],
   "source": []
  },
  {
   "cell_type": "code",
   "execution_count": null,
   "metadata": {},
   "outputs": [],
   "source": []
  },
  {
   "cell_type": "code",
   "execution_count": 18,
   "metadata": {},
   "outputs": [
    {
     "name": "stdout",
     "output_type": "stream",
     "text": [
      "2020-09-18\n"
     ]
    }
   ],
   "source": [
    "\n",
    "import time\n",
    "import datetime\n",
    "from datetime import  date, timedelta\n",
    "#给定时间戳\n",
    "timeStamp = 1557502800\n",
    "today =date.today()\n",
    "threeDayAgo = today - datetime.timedelta(days = 3)\n",
    "print(threeDayAgo)\n"
   ]
  }
 ],
 "metadata": {
  "kernelspec": {
   "display_name": "Python 3",
   "language": "python",
   "name": "python3"
  },
  "language_info": {
   "codemirror_mode": {
    "name": "ipython",
    "version": 3
   },
   "file_extension": ".py",
   "mimetype": "text/x-python",
   "name": "python",
   "nbconvert_exporter": "python",
   "pygments_lexer": "ipython3",
   "version": "3.7.1"
  }
 },
 "nbformat": 4,
 "nbformat_minor": 2
}
